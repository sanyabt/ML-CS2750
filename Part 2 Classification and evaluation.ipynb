{
 "cells": [
  {
   "cell_type": "markdown",
   "metadata": {},
   "source": [
    "# Classification Experiments"
   ]
  },
  {
   "cell_type": "markdown",
   "metadata": {},
   "source": [
    "Import data after cleaning in Part 1"
   ]
  },
  {
   "cell_type": "code",
   "execution_count": 1,
   "metadata": {},
   "outputs": [],
   "source": [
    "import pandas as pd\n",
    "import numpy as np"
   ]
  },
  {
   "cell_type": "code",
   "execution_count": 2,
   "metadata": {},
   "outputs": [],
   "source": [
    "df = pd.read_csv('no_show_data_clean.csv')"
   ]
  },
  {
   "cell_type": "code",
   "execution_count": 3,
   "metadata": {},
   "outputs": [
    {
     "name": "stdout",
     "output_type": "stream",
     "text": [
      "<class 'pandas.core.frame.DataFrame'>\n",
      "RangeIndex: 110521 entries, 0 to 110520\n",
      "Data columns (total 12 columns):\n",
      "AppointmentID    110521 non-null int64\n",
      "Gender           110521 non-null object\n",
      "Age              110521 non-null int64\n",
      "Neighbourhood    110521 non-null object\n",
      "Scholarship      110521 non-null int64\n",
      "Hypertension     110521 non-null int64\n",
      "Diabetes         110521 non-null int64\n",
      "Alcoholism       110521 non-null int64\n",
      "Handicap         110521 non-null int64\n",
      "SMS_received     110521 non-null int64\n",
      "No_show          110521 non-null int64\n",
      "waitdays         110521 non-null int64\n",
      "dtypes: int64(10), object(2)\n",
      "memory usage: 10.1+ MB\n"
     ]
    }
   ],
   "source": [
    "df.info()"
   ]
  },
  {
   "cell_type": "code",
   "execution_count": 4,
   "metadata": {},
   "outputs": [
    {
     "data": {
      "text/html": [
       "<div>\n",
       "<style scoped>\n",
       "    .dataframe tbody tr th:only-of-type {\n",
       "        vertical-align: middle;\n",
       "    }\n",
       "\n",
       "    .dataframe tbody tr th {\n",
       "        vertical-align: top;\n",
       "    }\n",
       "\n",
       "    .dataframe thead th {\n",
       "        text-align: right;\n",
       "    }\n",
       "</style>\n",
       "<table border=\"1\" class=\"dataframe\">\n",
       "  <thead>\n",
       "    <tr style=\"text-align: right;\">\n",
       "      <th></th>\n",
       "      <th>AppointmentID</th>\n",
       "      <th>Gender</th>\n",
       "      <th>Age</th>\n",
       "      <th>Neighbourhood</th>\n",
       "      <th>Scholarship</th>\n",
       "      <th>Hypertension</th>\n",
       "      <th>Diabetes</th>\n",
       "      <th>Alcoholism</th>\n",
       "      <th>Handicap</th>\n",
       "      <th>SMS_received</th>\n",
       "      <th>No_show</th>\n",
       "      <th>waitdays</th>\n",
       "    </tr>\n",
       "  </thead>\n",
       "  <tbody>\n",
       "    <tr>\n",
       "      <th>0</th>\n",
       "      <td>5642903</td>\n",
       "      <td>1</td>\n",
       "      <td>62</td>\n",
       "      <td>JARDIM DA PENHA</td>\n",
       "      <td>0</td>\n",
       "      <td>1</td>\n",
       "      <td>0</td>\n",
       "      <td>0</td>\n",
       "      <td>0</td>\n",
       "      <td>0</td>\n",
       "      <td>0</td>\n",
       "      <td>-1</td>\n",
       "    </tr>\n",
       "    <tr>\n",
       "      <th>1</th>\n",
       "      <td>5642503</td>\n",
       "      <td>0</td>\n",
       "      <td>56</td>\n",
       "      <td>JARDIM DA PENHA</td>\n",
       "      <td>0</td>\n",
       "      <td>0</td>\n",
       "      <td>0</td>\n",
       "      <td>0</td>\n",
       "      <td>0</td>\n",
       "      <td>0</td>\n",
       "      <td>0</td>\n",
       "      <td>-1</td>\n",
       "    </tr>\n",
       "    <tr>\n",
       "      <th>2</th>\n",
       "      <td>5642549</td>\n",
       "      <td>1</td>\n",
       "      <td>62</td>\n",
       "      <td>MATA DA PRAIA</td>\n",
       "      <td>0</td>\n",
       "      <td>0</td>\n",
       "      <td>0</td>\n",
       "      <td>0</td>\n",
       "      <td>0</td>\n",
       "      <td>0</td>\n",
       "      <td>0</td>\n",
       "      <td>-1</td>\n",
       "    </tr>\n",
       "    <tr>\n",
       "      <th>3</th>\n",
       "      <td>5642828</td>\n",
       "      <td>1</td>\n",
       "      <td>8</td>\n",
       "      <td>PONTAL DE CAMBURI</td>\n",
       "      <td>0</td>\n",
       "      <td>0</td>\n",
       "      <td>0</td>\n",
       "      <td>0</td>\n",
       "      <td>0</td>\n",
       "      <td>0</td>\n",
       "      <td>0</td>\n",
       "      <td>-1</td>\n",
       "    </tr>\n",
       "    <tr>\n",
       "      <th>4</th>\n",
       "      <td>5642494</td>\n",
       "      <td>1</td>\n",
       "      <td>56</td>\n",
       "      <td>JARDIM DA PENHA</td>\n",
       "      <td>0</td>\n",
       "      <td>1</td>\n",
       "      <td>1</td>\n",
       "      <td>0</td>\n",
       "      <td>0</td>\n",
       "      <td>0</td>\n",
       "      <td>0</td>\n",
       "      <td>-1</td>\n",
       "    </tr>\n",
       "  </tbody>\n",
       "</table>\n",
       "</div>"
      ],
      "text/plain": [
       "   AppointmentID  Gender  Age      Neighbourhood  Scholarship  Hypertension  \\\n",
       "0        5642903       1   62    JARDIM DA PENHA            0             1   \n",
       "1        5642503       0   56    JARDIM DA PENHA            0             0   \n",
       "2        5642549       1   62      MATA DA PRAIA            0             0   \n",
       "3        5642828       1    8  PONTAL DE CAMBURI            0             0   \n",
       "4        5642494       1   56    JARDIM DA PENHA            0             1   \n",
       "\n",
       "   Diabetes  Alcoholism  Handicap  SMS_received  No_show  waitdays  \n",
       "0         0           0         0             0        0        -1  \n",
       "1         0           0         0             0        0        -1  \n",
       "2         0           0         0             0        0        -1  \n",
       "3         0           0         0             0        0        -1  \n",
       "4         1           0         0             0        0        -1  "
      ]
     },
     "execution_count": 4,
     "metadata": {},
     "output_type": "execute_result"
    }
   ],
   "source": [
    "df['Gender'] = df['Gender'].replace({'M': 0, 'F': 1})\n",
    "df.head()"
   ]
  },
  {
   "cell_type": "code",
   "execution_count": 5,
   "metadata": {},
   "outputs": [
    {
     "data": {
      "text/html": [
       "<div>\n",
       "<style scoped>\n",
       "    .dataframe tbody tr th:only-of-type {\n",
       "        vertical-align: middle;\n",
       "    }\n",
       "\n",
       "    .dataframe tbody tr th {\n",
       "        vertical-align: top;\n",
       "    }\n",
       "\n",
       "    .dataframe thead th {\n",
       "        text-align: right;\n",
       "    }\n",
       "</style>\n",
       "<table border=\"1\" class=\"dataframe\">\n",
       "  <thead>\n",
       "    <tr style=\"text-align: right;\">\n",
       "      <th></th>\n",
       "      <th>Gender</th>\n",
       "      <th>Age</th>\n",
       "      <th>Scholarship</th>\n",
       "      <th>Hypertension</th>\n",
       "      <th>Diabetes</th>\n",
       "      <th>Alcoholism</th>\n",
       "      <th>Handicap</th>\n",
       "      <th>SMS_received</th>\n",
       "      <th>No_show</th>\n",
       "      <th>waitdays</th>\n",
       "    </tr>\n",
       "  </thead>\n",
       "  <tbody>\n",
       "    <tr>\n",
       "      <th>0</th>\n",
       "      <td>1</td>\n",
       "      <td>62</td>\n",
       "      <td>0</td>\n",
       "      <td>1</td>\n",
       "      <td>0</td>\n",
       "      <td>0</td>\n",
       "      <td>0</td>\n",
       "      <td>0</td>\n",
       "      <td>0</td>\n",
       "      <td>-1</td>\n",
       "    </tr>\n",
       "    <tr>\n",
       "      <th>1</th>\n",
       "      <td>0</td>\n",
       "      <td>56</td>\n",
       "      <td>0</td>\n",
       "      <td>0</td>\n",
       "      <td>0</td>\n",
       "      <td>0</td>\n",
       "      <td>0</td>\n",
       "      <td>0</td>\n",
       "      <td>0</td>\n",
       "      <td>-1</td>\n",
       "    </tr>\n",
       "    <tr>\n",
       "      <th>2</th>\n",
       "      <td>1</td>\n",
       "      <td>62</td>\n",
       "      <td>0</td>\n",
       "      <td>0</td>\n",
       "      <td>0</td>\n",
       "      <td>0</td>\n",
       "      <td>0</td>\n",
       "      <td>0</td>\n",
       "      <td>0</td>\n",
       "      <td>-1</td>\n",
       "    </tr>\n",
       "    <tr>\n",
       "      <th>3</th>\n",
       "      <td>1</td>\n",
       "      <td>8</td>\n",
       "      <td>0</td>\n",
       "      <td>0</td>\n",
       "      <td>0</td>\n",
       "      <td>0</td>\n",
       "      <td>0</td>\n",
       "      <td>0</td>\n",
       "      <td>0</td>\n",
       "      <td>-1</td>\n",
       "    </tr>\n",
       "    <tr>\n",
       "      <th>4</th>\n",
       "      <td>1</td>\n",
       "      <td>56</td>\n",
       "      <td>0</td>\n",
       "      <td>1</td>\n",
       "      <td>1</td>\n",
       "      <td>0</td>\n",
       "      <td>0</td>\n",
       "      <td>0</td>\n",
       "      <td>0</td>\n",
       "      <td>-1</td>\n",
       "    </tr>\n",
       "  </tbody>\n",
       "</table>\n",
       "</div>"
      ],
      "text/plain": [
       "   Gender  Age  Scholarship  Hypertension  Diabetes  Alcoholism  Handicap  \\\n",
       "0       1   62            0             1         0           0         0   \n",
       "1       0   56            0             0         0           0         0   \n",
       "2       1   62            0             0         0           0         0   \n",
       "3       1    8            0             0         0           0         0   \n",
       "4       1   56            0             1         1           0         0   \n",
       "\n",
       "   SMS_received  No_show  waitdays  \n",
       "0             0        0        -1  \n",
       "1             0        0        -1  \n",
       "2             0        0        -1  \n",
       "3             0        0        -1  \n",
       "4             0        0        -1  "
      ]
     },
     "execution_count": 5,
     "metadata": {},
     "output_type": "execute_result"
    }
   ],
   "source": [
    "col = ['Gender', 'Age', 'Scholarship', 'Hypertension', 'Diabetes', 'Alcoholism', 'Handicap', 'SMS_received', 'No_show', 'waitdays']\n",
    "df = df[col]\n",
    "df.head()"
   ]
  },
  {
   "cell_type": "code",
   "execution_count": 22,
   "metadata": {},
   "outputs": [],
   "source": [
    "all_features = df[['Gender', 'Age', 'Scholarship', 'Hypertension', 'Diabetes','Alcoholism','Handicap','SMS_received','waitdays']]\n",
    "target = df[['No_show']]"
   ]
  },
  {
   "cell_type": "code",
   "execution_count": 7,
   "metadata": {},
   "outputs": [
    {
     "data": {
      "text/plain": [
       "0    88207\n",
       "1    22314\n",
       "Name: No_show, dtype: int64"
      ]
     },
     "execution_count": 7,
     "metadata": {},
     "output_type": "execute_result"
    }
   ],
   "source": [
    "df.No_show.value_counts()"
   ]
  },
  {
   "cell_type": "markdown",
   "metadata": {},
   "source": [
    "Train and test split with stratification. \n",
    "\n",
    "Train = 75%, test = 25%"
   ]
  },
  {
   "cell_type": "code",
   "execution_count": 35,
   "metadata": {},
   "outputs": [],
   "source": [
    "from sklearn.model_selection import train_test_split\n",
    "X_train, X_test, y_train, y_test = train_test_split(all_features, target, test_size=0.25, random_state=42, stratify=target)"
   ]
  },
  {
   "cell_type": "code",
   "execution_count": 9,
   "metadata": {},
   "outputs": [],
   "source": [
    "import matplotlib.pyplot as plt\n",
    "from sklearn.utils.multiclass import unique_labels\n",
    "from sklearn.metrics import confusion_matrix\n",
    "\n",
    "def plot_confusion_matrix(y_true, y_pred, classes,\n",
    "                          title=None,\n",
    "                          cmap=plt.cm.Blues):\n",
    "    \"\"\"\n",
    "    This function prints and plots the confusion matrix.\n",
    "    Normalization can be applied by setting `normalize=True`.\n",
    "    \"\"\"\n",
    "    title = 'Confusion matrix'\n",
    "\n",
    "    # Compute confusion matrix\n",
    "    cm = confusion_matrix(y_true, y_pred)\n",
    "    # Only use the labels that appear in the data\n",
    "    \n",
    "\n",
    "    print(cm)\n",
    "\n",
    "    fig, ax = plt.subplots()\n",
    "    im = ax.imshow(cm, interpolation='nearest', cmap=cmap)\n",
    "    ax.figure.colorbar(im, ax=ax)\n",
    "    # We want to show all ticks...\n",
    "    ax.set(xticks=np.arange(cm.shape[1]),\n",
    "           yticks=np.arange(cm.shape[0]),\n",
    "           # ... and label them with the respective list entries\n",
    "           xticklabels=classes, yticklabels=classes,\n",
    "           title=title,\n",
    "           ylabel='True label',\n",
    "           xlabel='Predicted label')\n",
    "\n",
    "    # Rotate the tick labels and set their alignment.\n",
    "    plt.setp(ax.get_xticklabels(), rotation=45, ha=\"right\",\n",
    "             rotation_mode=\"anchor\")\n",
    "\n",
    "    # Loop over data dimensions and create text annotations.\n",
    "    fmt = 'd'\n",
    "    thresh = cm.max() / 2.\n",
    "    for i in range(cm.shape[0]):\n",
    "        for j in range(cm.shape[1]):\n",
    "            ax.text(j, i, format(cm[i, j], fmt),\n",
    "                    ha=\"center\", va=\"center\",\n",
    "                    color=\"white\" if cm[i, j] > thresh else \"black\")\n",
    "    fig.tight_layout()\n",
    "    return ax\n",
    "np.set_printoptions(precision=2)\n",
    "\n"
   ]
  },
  {
   "cell_type": "code",
   "execution_count": 7,
   "metadata": {},
   "outputs": [],
   "source": [
    "#Majority model\n",
    "def zero_rule(train, test):\n",
    "    output_val = [i for i in train]\n",
    "    prediction = max(set(output_val), key=output_val.count)\n",
    "    predicted = [prediction for i in range(len(test))]\n",
    "    return predicted"
   ]
  },
  {
   "cell_type": "code",
   "execution_count": 17,
   "metadata": {},
   "outputs": [],
   "source": [
    "from sklearn.pipeline import Pipeline\n",
    "from sklearn.model_selection import train_test_split\n",
    "from sklearn.feature_extraction.text import CountVectorizer\n",
    "from sklearn.metrics import accuracy_score, confusion_matrix\n",
    "from sklearn.metrics import classification_report\n",
    "from sklearn.linear_model import LogisticRegression\n",
    "from sklearn.model_selection import StratifiedKFold\n",
    "from sklearn.metrics import precision_score, recall_score, f1_score, accuracy_score, log_loss\n",
    "from sklearn.metrics import confusion_matrix"
   ]
  },
  {
   "cell_type": "markdown",
   "metadata": {},
   "source": [
    "### Majority Baseline classification"
   ]
  },
  {
   "cell_type": "code",
   "execution_count": 12,
   "metadata": {},
   "outputs": [],
   "source": [
    "from sklearn.pipeline import Pipeline\n",
    "from sklearn.model_selection import train_test_split\n",
    "from sklearn.feature_extraction.text import CountVectorizer\n",
    "from sklearn.metrics import accuracy_score, confusion_matrix\n",
    "from sklearn.metrics import classification_report\n",
    "from sklearn.linear_model import LogisticRegression\n",
    "from sklearn.model_selection import StratifiedKFold\n",
    "from sklearn.metrics import precision_score, recall_score, f1_score, accuracy_score, log_loss\n",
    "from sklearn.metrics import confusion_matrix\n",
    "def run_baseline_model(splits, X, Y, average_method='macro'):\n",
    "    kfold = StratifiedKFold(splits, shuffle=True)\n",
    "    accuracy = []\n",
    "    precision = []\n",
    "    recall = []\n",
    "    f1 = []\n",
    "    f1_micro = []\n",
    "    for train, test in kfold.split(X, Y):\n",
    "\n",
    "        prediction = zero_rule(Y[train], Y[test])\n",
    "\n",
    "        acc = accuracy_score(Y[test], prediction)\n",
    "        \n",
    "        accuracy.append(acc*100)\n",
    "        precision.append(precision_score(Y[test], prediction, average=average_method)*100)\n",
    "        recall.append(recall_score(Y[test], prediction, average=average_method)*100)\n",
    "        f1.append(f1_score(Y[test], prediction, average=average_method)*100)\n",
    "        f1_micro.append(f1_score(Y[test], prediction, average='micro')*100)\n",
    "\n",
    "    print(\"accuracy: %.2f%% (+/- %.2f%%)\" % (np.mean(accuracy), np.std(accuracy)))\n",
    "    print(\"precision: %.2f%% (+/- %.2f%%)\" % (np.mean(precision), np.std(precision)))\n",
    "    print(\"recall: %.2f%% (+/- %.2f%%)\" % (np.mean(recall), np.std(recall)))\n",
    "    print(\"f1 score: %.2f%% (+/- %.2f%%)\" % (np.mean(f1), np.std(f1)))\n",
    "    print(\"f1 micro score: %.2f%% (+/= %.2f%%)\" % (np.mean(f1_micro), np.std(f1_micro)))"
   ]
  },
  {
   "cell_type": "code",
   "execution_count": 13,
   "metadata": {},
   "outputs": [
    {
     "name": "stderr",
     "output_type": "stream",
     "text": [
      "/Users/Seema/Virtualenvs/nlp/lib/python3.6/site-packages/sklearn/metrics/classification.py:1143: UndefinedMetricWarning: Precision is ill-defined and being set to 0.0 in labels with no predicted samples.\n",
      "  'precision', 'predicted', average, warn_for)\n",
      "/Users/Seema/Virtualenvs/nlp/lib/python3.6/site-packages/sklearn/metrics/classification.py:1143: UndefinedMetricWarning: F-score is ill-defined and being set to 0.0 in labels with no predicted samples.\n",
      "  'precision', 'predicted', average, warn_for)\n"
     ]
    },
    {
     "name": "stdout",
     "output_type": "stream",
     "text": [
      "accuracy: 79.81% (+/- 0.00%)\n",
      "precision: 39.91% (+/- 0.00%)\n",
      "recall: 50.00% (+/- 0.00%)\n",
      "f1 score: 44.39% (+/- 0.00%)\n",
      "f1 micro score: 79.81% (+/= 0.00%)\n"
     ]
    }
   ],
   "source": [
    "run_baseline_model(5, df.Age, df.No_show)"
   ]
  },
  {
   "cell_type": "markdown",
   "metadata": {},
   "source": [
    "## Experiment 1: All features\n",
    "#### Classifiers: LogReg, LinearSVC, RandomForest"
   ]
  },
  {
   "cell_type": "code",
   "execution_count": 24,
   "metadata": {},
   "outputs": [],
   "source": [
    "from sklearn.base import BaseEstimator\n",
    "from sklearn.linear_model import LogisticRegression\n",
    "\n",
    "class ClassifierPipeline(BaseEstimator):\n",
    "\n",
    "    def __init__(self, estimator = LogisticRegression(),):\n",
    "        \"\"\"\n",
    "        A custom BaseEstimator that can switch between classifiers in the pipe.\n",
    "        Defaults to Logistic Regression.\n",
    "        \n",
    "        :param estimator: sklearn object; switches between any sklearn estimator\n",
    "        \"\"\"\n",
    "        self.estimator = estimator\n",
    "    \n",
    "    def fit(self, X, y=None, **kwargs):\n",
    "        self.estimator.fit(X, y)\n",
    "        return self\n",
    "    \n",
    "    def predict(self, X, y=None):\n",
    "        return self.estimator.predict(X)\n",
    "    \n",
    "    def predict_proba(self, X):\n",
    "        return self.estimator.predict_proba(X)\n",
    "    \n",
    "    def score(self, X, y):\n",
    "        return self.estimator.score(X, y)"
   ]
  },
  {
   "cell_type": "code",
   "execution_count": 25,
   "metadata": {},
   "outputs": [],
   "source": [
    "from sklearn.pipeline import Pipeline\n",
    "from sklearn.metrics import make_scorer\n",
    "from sklearn.metrics import accuracy_score, f1_score, precision_score, recall_score\n",
    "pipe = Pipeline(steps=[('clf', ClassifierPipeline())])\n",
    "scoring = {'AUC': 'roc_auc', 'Accuracy': make_scorer(accuracy_score), 'f1-score': make_scorer(f1_score),\n",
    "           'precision': make_scorer(precision_score), 'recall': make_scorer(recall_score)}"
   ]
  },
  {
   "cell_type": "code",
   "execution_count": 26,
   "metadata": {},
   "outputs": [],
   "source": [
    "from sklearn.ensemble import RandomForestClassifier\n",
    "from sklearn.linear_model import LogisticRegression\n",
    "from time import time\n",
    "from sklearn.model_selection import GridSearchCV\n",
    "from sklearn.svm import LinearSVC\n",
    "from sklearn.naive_bayes import MultinomialNB"
   ]
  },
  {
   "cell_type": "code",
   "execution_count": 24,
   "metadata": {},
   "outputs": [],
   "source": [
    "param_gridLR = [\n",
    "    {\n",
    "        'clf__estimator': [LogisticRegression()],\n",
    "        'clf__estimator__penalty': ['l2'],\n",
    "        'clf__estimator__C': [0.001, 0.01, 0.1, 1, 10, 100, 1000],\n",
    "    }]\n",
    "searchLR = GridSearchCV(pipe, param_gridLR, cv=5, n_jobs=-1, return_train_score=False, verbose=3, scoring=scoring, refit='AUC')\n"
   ]
  },
  {
   "cell_type": "code",
   "execution_count": 32,
   "metadata": {},
   "outputs": [],
   "source": [
    "\n",
    "param_gridSVC = [\n",
    "    {\n",
    "        'clf__estimator': [LinearSVC()],\n",
    "        'clf__estimator__penalty': ['l2'],\n",
    "        'clf__estimator__C': [0.001, 0.01, 0.1, 1, 10, 100, 1000],\n",
    "    }]\n",
    "searchSVC = GridSearchCV(pipe, param_gridSVC, cv=5, n_jobs=-1, return_train_score=False, verbose=3, refit=True)\n"
   ]
  },
  {
   "cell_type": "code",
   "execution_count": 26,
   "metadata": {},
   "outputs": [],
   "source": [
    "param_gridRF = [\n",
    "    {\n",
    "        'clf__estimator': [RandomForestClassifier()],\n",
    "        'clf__estimator__n_estimators': [200, 500],\n",
    "        'clf__estimator__max_features': ['auto', 'sqrt', 'log2'],\n",
    "        'clf__estimator__max_depth': [4,5,6,7,8],\n",
    "        'clf__estimator__criterion': ['gini', 'entropy'],\n",
    "    }\n",
    "]\n",
    "searchRF = GridSearchCV(pipe, param_gridRF, cv=5, n_jobs=-1, return_train_score=False, verbose=3, scoring=scoring, refit='AUC')\n"
   ]
  },
  {
   "cell_type": "code",
   "execution_count": 10,
   "metadata": {},
   "outputs": [],
   "source": [
    "target_names = ['Show', 'No-show']"
   ]
  },
  {
   "cell_type": "code",
   "execution_count": 39,
   "metadata": {},
   "outputs": [
    {
     "name": "stdout",
     "output_type": "stream",
     "text": [
      "LOGISTIC REGRESSION\n",
      "Best parameter (CV score=0.660):\n",
      "{'clf__estimator': LogisticRegression(C=10, class_weight=None, dual=False, fit_intercept=True,\n",
      "          intercept_scaling=1, max_iter=100, multi_class='warn',\n",
      "          n_jobs=None, penalty='l2', random_state=None, solver='warn',\n",
      "          tol=0.0001, verbose=0, warm_start=False), 'clf__estimator__C': 10, 'clf__estimator__penalty': 'l2'}\n",
      "Best estimator:  Pipeline(memory=None,\n",
      "     steps=[('clf', ClassifierPipeline(estimator=LogisticRegression(C=10, class_weight=None, dual=False, fit_intercept=True,\n",
      "          intercept_scaling=1, max_iter=100, multi_class='warn',\n",
      "          n_jobs=None, penalty='l2', random_state=None, solver='warn',\n",
      "          tol=0.0001, verbose=0, warm_start=False)))])\n",
      "Test Score (AUC):  0.6590249847620188\n",
      "Accuracy:  0.7958090550468676\n",
      "Classification Report:\n",
      "              precision    recall  f1-score   support\n",
      "\n",
      "        Show       0.80      0.99      0.89     22052\n",
      "     No-show       0.36      0.01      0.03      5579\n",
      "\n",
      "   micro avg       0.80      0.80      0.80     27631\n",
      "   macro avg       0.58      0.50      0.46     27631\n",
      "weighted avg       0.71      0.80      0.71     27631\n",
      "\n",
      "[[21907   145]\n",
      " [ 5497    82]]\n"
     ]
    },
    {
     "data": {
      "image/png": "[encoded data removed]",
      "text/plain": [
       "<Figure size 432x288 with 2 Axes>"
      ]
     },
     "metadata": {
      "needs_background": "light"
     },
     "output_type": "display_data"
    }
   ],
   "source": [
    "from sklearn.metrics import classification_report\n",
    "from sklearn.metrics import confusion_matrix\n",
    "print('LOGISTIC REGRESSION')\n",
    "print(\"Best parameter (CV score=%0.3f):\" % searchLR.best_score_)\n",
    "print(searchLR.best_params_)\n",
    "print('Best estimator: ', searchLR.best_estimator_)\n",
    "\n",
    "y_predLR = searchLR.predict(X_test)\n",
    "test_score = searchLR.score(X_test, y_test)\n",
    "print('Test Score (AUC): ', test_score)\n",
    "print('Accuracy: ', accuracy_score(y_test, y_predLR))\n",
    "print('Classification Report:')\n",
    "print(classification_report(y_test, y_predLR, target_names=target_names))\n",
    "plot_confusion_matrix(y_test, y_predLR, classes=target_names,\n",
    "                      title='Confusion matrix')\n",
    "plt.show()"
   ]
  },
  {
   "cell_type": "code",
   "execution_count": 48,
   "metadata": {},
   "outputs": [
    {
     "name": "stdout",
     "output_type": "stream",
     "text": [
      "LINEAR SVC\n",
      "Best parameter (CV score=0.796):\n",
      "{'clf__estimator': LinearSVC(C=0.001, class_weight=None, dual=True, fit_intercept=True,\n",
      "     intercept_scaling=1, loss='squared_hinge', max_iter=1000,\n",
      "     multi_class='ovr', penalty='l2', random_state=None, tol=0.0001,\n",
      "     verbose=0), 'clf__estimator__C': 0.001, 'clf__estimator__penalty': 'l2'}\n",
      "Best estimator:  Pipeline(memory=None,\n",
      "     steps=[('clf', ClassifierPipeline(estimator=LinearSVC(C=0.001, class_weight=None, dual=True, fit_intercept=True,\n",
      "     intercept_scaling=1, loss='squared_hinge', max_iter=1000,\n",
      "     multi_class='ovr', penalty='l2', random_state=None, tol=0.0001,\n",
      "     verbose=0)))])\n",
      "Test Score (Accuracy):  0.7963519235641128\n",
      "Accuracy:  0.7963519235641128\n",
      "Classification Report:\n",
      "              precision    recall  f1-score   support\n",
      "\n",
      "        Show       0.80      1.00      0.89     22052\n",
      "     No-show       0.31      0.01      0.01      5579\n",
      "\n",
      "   micro avg       0.80      0.80      0.80     27631\n",
      "   macro avg       0.56      0.50      0.45     27631\n",
      "weighted avg       0.70      0.80      0.71     27631\n",
      "\n",
      "[[21964    88]\n",
      " [ 5539    40]]\n"
     ]
    },
    {
     "data": {
      "image/png": "[encoded data removed]",
      "text/plain": [
       "<Figure size 432x288 with 2 Axes>"
      ]
     },
     "metadata": {
      "needs_background": "light"
     },
     "output_type": "display_data"
    }
   ],
   "source": [
    "from sklearn.metrics import classification_report\n",
    "from sklearn.metrics import confusion_matrix\n",
    "print('LINEAR SVC')\n",
    "print(\"Best parameter (CV score=%0.3f):\" % searchSVC.best_score_)\n",
    "print(searchSVC.best_params_)\n",
    "print('Best estimator: ', searchSVC.best_estimator_)\n",
    "\n",
    "y_predSVC = searchSVC.predict(X_test)\n",
    "test_score = searchSVC.score(X_test, y_test)\n",
    "print('Test Score (Accuracy): ', test_score)\n",
    "print('Accuracy: ', accuracy_score(y_test, y_predSVC))\n",
    "print('Classification Report:')\n",
    "print(classification_report(y_test, y_predSVC, target_names=target_names))\n",
    "plot_confusion_matrix(y_test, y_predSVC, classes=target_names,\n",
    "                      title='Confusion matrix')\n",
    "plt.show()"
   ]
  },
  {
   "cell_type": "code",
   "execution_count": 41,
   "metadata": {},
   "outputs": [
    {
     "name": "stdout",
     "output_type": "stream",
     "text": [
      "RANDOM FOREST\n",
      "Best parameter (CV score=0.730):\n",
      "{'clf__estimator': RandomForestClassifier(bootstrap=True, class_weight=None, criterion='gini',\n",
      "            max_depth=8, max_features='sqrt', max_leaf_nodes=None,\n",
      "            min_impurity_decrease=0.0, min_impurity_split=None,\n",
      "            min_samples_leaf=1, min_samples_split=2,\n",
      "            min_weight_fraction_leaf=0.0, n_estimators=500, n_jobs=None,\n",
      "            oob_score=False, random_state=None, verbose=0,\n",
      "            warm_start=False), 'clf__estimator__criterion': 'gini', 'clf__estimator__max_depth': 8, 'clf__estimator__max_features': 'sqrt', 'clf__estimator__n_estimators': 500}\n",
      "Best estimator:  Pipeline(memory=None,\n",
      "     steps=[('clf', ClassifierPipeline(estimator=RandomForestClassifier(bootstrap=True, class_weight=None, criterion='gini',\n",
      "            max_depth=8, max_features='sqrt', max_leaf_nodes=None,\n",
      "            min_impurity_decrease=0.0, min_impurity_split=None,\n",
      "            min_samples_leaf=1, min_samples_split=2,\n",
      "            min_weight_fraction_leaf=0.0, n_estimators=500, n_jobs=None,\n",
      "            oob_score=False, random_state=None, verbose=0,\n",
      "            warm_start=False)))])\n",
      "Test Score (AUC):  0.7281849689178347\n",
      "Accuracy:  0.7983062502261952\n",
      "Classification Report:\n",
      "              precision    recall  f1-score   support\n",
      "\n",
      "        Show       0.80      1.00      0.89     22052\n",
      "     No-show       0.69      0.00      0.00      5579\n",
      "\n",
      "   micro avg       0.80      0.80      0.80     27631\n",
      "   macro avg       0.74      0.50      0.45     27631\n",
      "weighted avg       0.78      0.80      0.71     27631\n",
      "\n",
      "[[22047     5]\n",
      " [ 5568    11]]\n"
     ]
    },
    {
     "data": {
      "image/png": "[encoded data removed]",
      "text/plain": [
       "<Figure size 432x288 with 2 Axes>"
      ]
     },
     "metadata": {
      "needs_background": "light"
     },
     "output_type": "display_data"
    }
   ],
   "source": [
    "from sklearn.metrics import classification_report\n",
    "from sklearn.metrics import confusion_matrix\n",
    "print('RANDOM FOREST')\n",
    "print(\"Best parameter (CV score=%0.3f):\" % searchRF.best_score_)\n",
    "print(searchRF.best_params_)\n",
    "print('Best estimator: ', searchRF.best_estimator_)\n",
    "\n",
    "y_predRF = searchRF.predict(X_test)\n",
    "test_score = searchRF.score(X_test, y_test)\n",
    "print('Test Score (AUC): ', test_score)\n",
    "print('Accuracy: ', accuracy_score(y_test, y_predRF))\n",
    "print('Classification Report:')\n",
    "print(classification_report(y_test, y_predRF, target_names=target_names))\n",
    "plot_confusion_matrix(y_test, y_predRF, classes=target_names,\n",
    "                      title='Confusion matrix')\n",
    "plt.show()"
   ]
  },
  {
   "cell_type": "code",
   "execution_count": 36,
   "metadata": {},
   "outputs": [
    {
     "name": "stderr",
     "output_type": "stream",
     "text": [
      "/Users/Seema/Virtualenvs/nlp/lib/python3.6/site-packages/ipykernel_launcher.py:8: DataConversionWarning: A column-vector y was passed when a 1d array was expected. Please change the shape of y to (n_samples,), for example using ravel().\n",
      "  \n"
     ]
    },
    {
     "name": "stdout",
     "output_type": "stream",
     "text": [
      "Accuracy:  0.7982700589917122\n",
      "Classification Report:\n",
      "              precision    recall  f1-score   support\n",
      "\n",
      "        Show       0.80      1.00      0.89     22052\n",
      "     No-show       0.67      0.00      0.00      5579\n",
      "\n",
      "   micro avg       0.80      0.80      0.80     27631\n",
      "   macro avg       0.73      0.50      0.45     27631\n",
      "weighted avg       0.77      0.80      0.71     27631\n",
      "\n",
      "[[22047     5]\n",
      " [ 5569    10]]\n"
     ]
    },
    {
     "data": {
      "image/png": "[encoded data removed]",
      "text/plain": [
       "<Figure size 432x288 with 2 Axes>"
      ]
     },
     "metadata": {
      "needs_background": "light"
     },
     "output_type": "display_data"
    },
    {
     "name": "stdout",
     "output_type": "stream",
     "text": [
      "Feature importance:\n",
      "[0.01 0.13 0.01 0.01 0.   0.01 0.01 0.07 0.75]\n"
     ]
    }
   ],
   "source": [
    "clf = RandomForestClassifier(bootstrap=True, class_weight=None, criterion='gini',\n",
    "            max_depth=8, max_features='sqrt', max_leaf_nodes=None,\n",
    "            min_impurity_decrease=0.0, min_impurity_split=None,\n",
    "            min_samples_leaf=1, min_samples_split=2,\n",
    "            min_weight_fraction_leaf=0.0, n_estimators=500, n_jobs=None,\n",
    "            oob_score=False, random_state=None, verbose=0,\n",
    "            warm_start=False)\n",
    "clf.fit(X_train, y_train)\n",
    "y_pred = clf.predict(X_test)\n",
    "print('Accuracy: ', accuracy_score(y_test, y_pred))\n",
    "print('Classification Report:')\n",
    "print(classification_report(y_test, y_pred, target_names=target_names))\n",
    "plot_confusion_matrix(y_test, y_pred, classes=target_names,\n",
    "                      title='Confusion matrix')\n",
    "plt.show()\n",
    "\n",
    "print('Feature importance:')\n",
    "print(clf.feature_importances_)"
   ]
  },
  {
   "cell_type": "code",
   "execution_count": 37,
   "metadata": {},
   "outputs": [
    {
     "data": {
      "image/png": "[encoded data removed]",
      "text/plain": [
       "<Figure size 432x432 with 1 Axes>"
      ]
     },
     "metadata": {
      "needs_background": "light"
     },
     "output_type": "display_data"
    }
   ],
   "source": [
    "plt.figure(figsize=(6,6))\n",
    "fpr, tpr, thresh = roc_curve(y_test, clf.predict_proba(X_test)[:,1])\n",
    "roc_auc = auc(fpr, tpr)\n",
    "\n",
    "plt.title('ROC Curve')\n",
    "plt.plot(fpr, tpr, 'b', label=\"AUC: {:.3f}\".format(roc_auc))\n",
    "plt.legend(loc='lower right')\n",
    "plt.plot([0,1],[0,1],'r--')\n",
    "plt.xlim([0,1])\n",
    "plt.ylim([0,1])\n",
    "plt.ylabel('True Positive Rate')\n",
    "plt.xlabel('False Positive Rate')\n",
    "plt.tight_layout()\n",
    "plt.show()"
   ]
  },
  {
   "cell_type": "code",
   "execution_count": 38,
   "metadata": {},
   "outputs": [
    {
     "data": {
      "text/plain": [
       "0.21382015534739032"
      ]
     },
     "execution_count": 38,
     "metadata": {},
     "output_type": "execute_result"
    }
   ],
   "source": [
    "optimal_idx = np.argmax(tpr - fpr)\n",
    "optimal_threshold = thresh[optimal_idx]\n",
    "optimal_threshold"
   ]
  },
  {
   "cell_type": "code",
   "execution_count": 39,
   "metadata": {},
   "outputs": [
    {
     "name": "stdout",
     "output_type": "stream",
     "text": [
      "Accuracy:  0.5958524845282472\n",
      "Classification Report:\n",
      "              precision    recall  f1-score   support\n",
      "\n",
      "        Show       0.92      0.54      0.68     22052\n",
      "     No-show       0.31      0.82      0.45      5579\n",
      "\n",
      "   micro avg       0.60      0.60      0.60     27631\n",
      "   macro avg       0.62      0.68      0.56     27631\n",
      "weighted avg       0.80      0.60      0.63     27631\n",
      "\n",
      "[[11917 10135]\n",
      " [ 1032  4547]]\n"
     ]
    },
    {
     "data": {
      "image/png": "[encoded data removed]",
      "text/plain": [
       "<Figure size 432x288 with 2 Axes>"
      ]
     },
     "metadata": {
      "needs_background": "light"
     },
     "output_type": "display_data"
    },
    {
     "name": "stdout",
     "output_type": "stream",
     "text": [
      "Feature importance:\n",
      "[0.01 0.13 0.01 0.01 0.   0.01 0.01 0.07 0.75]\n"
     ]
    }
   ],
   "source": [
    "\n",
    "y_pred = (clf.predict_proba(X_test)[:,1] >= 0.21382015534739032).astype(bool)\n",
    "print('Accuracy: ', accuracy_score(y_test, y_pred))\n",
    "print('Classification Report:')\n",
    "print(classification_report(y_test, y_pred, target_names=target_names))\n",
    "plot_confusion_matrix(y_test, y_pred, classes=target_names,\n",
    "                      title='Confusion matrix')\n",
    "plt.show()\n",
    "\n",
    "print('Feature importance:')\n",
    "print(clf.feature_importances_)\n"
   ]
  },
  {
   "cell_type": "code",
   "execution_count": 55,
   "metadata": {},
   "outputs": [
    {
     "name": "stdout",
     "output_type": "stream",
     "text": [
      "<class 'pandas.core.frame.DataFrame'>\n",
      "RangeIndex: 110521 entries, 0 to 110520\n",
      "Data columns (total 10 columns):\n",
      "Gender          110521 non-null int64\n",
      "Age             110521 non-null int64\n",
      "Scholarship     110521 non-null int64\n",
      "Hypertension    110521 non-null int64\n",
      "Diabetes        110521 non-null int64\n",
      "Alcoholism      110521 non-null int64\n",
      "Handicap        110521 non-null int64\n",
      "SMS_received    110521 non-null int64\n",
      "No_show         110521 non-null int64\n",
      "waitdays        110521 non-null int64\n",
      "dtypes: int64(10)\n",
      "memory usage: 8.4 MB\n"
     ]
    }
   ],
   "source": [
    "df.info()"
   ]
  },
  {
   "cell_type": "markdown",
   "metadata": {},
   "source": [
    "# Experiment 2: Subset of features (Age, WaitDays, SMS_received)"
   ]
  },
  {
   "cell_type": "code",
   "execution_count": 28,
   "metadata": {},
   "outputs": [],
   "source": [
    "from sklearn.compose import ColumnTransformer\n",
    "from sklearn.preprocessing import StandardScaler\n",
    "from sklearn.preprocessing import KBinsDiscretizer\n",
    "from sklearn.preprocessing import OneHotEncoder\n",
    "ct = ColumnTransformer(\n",
    "    [(\"discreteAge\", KBinsDiscretizer(n_bins=8, strategy='uniform'), ['Age']),\n",
    "     (\"discreteWait\", KBinsDiscretizer(n_bins=8), ['waitdays']),\n",
    "     (\"onehot\", OneHotEncoder(sparse=False), ['SMS_received'])])"
   ]
  },
  {
   "cell_type": "code",
   "execution_count": 29,
   "metadata": {},
   "outputs": [],
   "source": [
    "some_features = df[['Age','SMS_received','waitdays']]\n",
    "target = df[['No_show']]\n",
    "X_train, X_test, y_train, y_test = train_test_split(some_features, target, test_size=0.25, random_state=42, stratify=target)"
   ]
  },
  {
   "cell_type": "code",
   "execution_count": 30,
   "metadata": {},
   "outputs": [
    {
     "name": "stderr",
     "output_type": "stream",
     "text": [
      "/Users/Seema/Virtualenvs/nlp/lib/python3.6/site-packages/sklearn/preprocessing/_encoders.py:368: FutureWarning: The handling of integer data will change in version 0.22. Currently, the categories are determined based on the range [0, max(values)], while in the future they will be determined based on the unique values.\n",
      "If you want the future behaviour and silence this warning, you can specify \"categories='auto'\".\n",
      "In case you used a LabelEncoder before this OneHotEncoder to convert the categories to integers, then you can now use the OneHotEncoder directly.\n",
      "  warnings.warn(msg, FutureWarning)\n"
     ]
    }
   ],
   "source": [
    "ct.fit(X_train)\n",
    "X_train_trans = ct.transform(X_train)\n",
    "X_test_trans = ct.transform(X_test)\n"
   ]
  },
  {
   "cell_type": "code",
   "execution_count": 53,
   "metadata": {},
   "outputs": [
    {
     "name": "stdout",
     "output_type": "stream",
     "text": [
      "Fitting 5 folds for each of 7 candidates, totalling 35 fits\n"
     ]
    },
    {
     "name": "stderr",
     "output_type": "stream",
     "text": [
      "[Parallel(n_jobs=-1)]: Using backend LokyBackend with 4 concurrent workers.\n",
      "[Parallel(n_jobs=-1)]: Done  24 tasks      | elapsed:    4.6s\n",
      "[Parallel(n_jobs=-1)]: Done  35 out of  35 | elapsed:    5.7s finished\n",
      "/Users/Seema/Virtualenvs/nlp/lib/python3.6/site-packages/sklearn/linear_model/logistic.py:433: FutureWarning: Default solver will be changed to 'lbfgs' in 0.22. Specify a solver to silence this warning.\n",
      "  FutureWarning)\n",
      "/Users/Seema/Virtualenvs/nlp/lib/python3.6/site-packages/sklearn/utils/validation.py:761: DataConversionWarning: A column-vector y was passed when a 1d array was expected. Please change the shape of y to (n_samples, ), for example using ravel().\n",
      "  y = column_or_1d(y, warn=True)\n",
      "/Users/Seema/Virtualenvs/nlp/lib/python3.6/site-packages/sklearn/metrics/classification.py:1143: UndefinedMetricWarning: Precision and F-score are ill-defined and being set to 0.0 in labels with no predicted samples.\n",
      "  'precision', 'predicted', average, warn_for)\n"
     ]
    },
    {
     "name": "stdout",
     "output_type": "stream",
     "text": [
      "LOGISTIC REGRESSION\n",
      "Best parameter (CV score=0.723):\n",
      "{'clf__estimator': LogisticRegression(C=100, class_weight=None, dual=False, fit_intercept=True,\n",
      "          intercept_scaling=1, max_iter=100, multi_class='warn',\n",
      "          n_jobs=None, penalty='l2', random_state=None, solver='warn',\n",
      "          tol=0.0001, verbose=0, warm_start=False), 'clf__estimator__C': 100, 'clf__estimator__penalty': 'l2'}\n",
      "Best estimator:  Pipeline(memory=None,\n",
      "     steps=[('clf', ClassifierPipeline(estimator=LogisticRegression(C=100, class_weight=None, dual=False, fit_intercept=True,\n",
      "          intercept_scaling=1, max_iter=100, multi_class='warn',\n",
      "          n_jobs=None, penalty='l2', random_state=None, solver='warn',\n",
      "          tol=0.0001, verbose=0, warm_start=False)))])\n",
      "Test Score (AUC):  0.7235062982517784\n",
      "Accuracy:  0.7980891028192971\n",
      "Classification Report:\n",
      "              precision    recall  f1-score   support\n",
      "\n",
      "        Show       0.80      1.00      0.89     22052\n",
      "     No-show       0.00      0.00      0.00      5579\n",
      "\n",
      "   micro avg       0.80      0.80      0.80     27631\n",
      "   macro avg       0.40      0.50      0.44     27631\n",
      "weighted avg       0.64      0.80      0.71     27631\n",
      "\n",
      "[[22052     0]\n",
      " [ 5579     0]]\n"
     ]
    },
    {
     "data": {
      "image/png": "[encoded data removed]",
      "text/plain": [
       "<Figure size 432x288 with 2 Axes>"
      ]
     },
     "metadata": {
      "needs_background": "light"
     },
     "output_type": "display_data"
    }
   ],
   "source": [
    "searchLR.fit(X_train_trans, y_train)\n",
    "print('LOGISTIC REGRESSION')\n",
    "print(\"Best parameter (CV score=%0.3f):\" % searchLR.best_score_)\n",
    "print(searchLR.best_params_)\n",
    "print('Best estimator: ', searchLR.best_estimator_)\n",
    "\n",
    "y_predLR = searchLR.predict(X_test_trans)\n",
    "test_score = searchLR.score(X_test_trans, y_test)\n",
    "print('Test Score (AUC): ', test_score)\n",
    "print('Accuracy: ', accuracy_score(y_test, y_predLR))\n",
    "print('Classification Report:')\n",
    "print(classification_report(y_test, y_predLR, target_names=target_names))\n",
    "plot_confusion_matrix(y_test, y_predLR, classes=target_names,\n",
    "                      title='Confusion matrix')\n",
    "plt.show()"
   ]
  },
  {
   "cell_type": "code",
   "execution_count": 33,
   "metadata": {},
   "outputs": [
    {
     "name": "stdout",
     "output_type": "stream",
     "text": [
      "Fitting 5 folds for each of 7 candidates, totalling 35 fits\n"
     ]
    },
    {
     "name": "stderr",
     "output_type": "stream",
     "text": [
      "[Parallel(n_jobs=-1)]: Using backend LokyBackend with 4 concurrent workers.\n",
      "[Parallel(n_jobs=-1)]: Done  24 tasks      | elapsed:   30.6s\n",
      "[Parallel(n_jobs=-1)]: Done  35 out of  35 | elapsed:  1.5min finished\n",
      "/Users/Seema/Virtualenvs/nlp/lib/python3.6/site-packages/sklearn/utils/validation.py:761: DataConversionWarning: A column-vector y was passed when a 1d array was expected. Please change the shape of y to (n_samples, ), for example using ravel().\n",
      "  y = column_or_1d(y, warn=True)\n",
      "/Users/Seema/Virtualenvs/nlp/lib/python3.6/site-packages/sklearn/svm/base.py:931: ConvergenceWarning: Liblinear failed to converge, increase the number of iterations.\n",
      "  \"the number of iterations.\", ConvergenceWarning)\n",
      "/Users/Seema/Virtualenvs/nlp/lib/python3.6/site-packages/sklearn/metrics/classification.py:1143: UndefinedMetricWarning: Precision and F-score are ill-defined and being set to 0.0 in labels with no predicted samples.\n",
      "  'precision', 'predicted', average, warn_for)\n"
     ]
    },
    {
     "name": "stdout",
     "output_type": "stream",
     "text": [
      "LINEAR SVC\n",
      "Best parameter (CV score=0.798):\n",
      "{'clf__estimator': LinearSVC(C=10, class_weight=None, dual=True, fit_intercept=True,\n",
      "     intercept_scaling=1, loss='squared_hinge', max_iter=1000,\n",
      "     multi_class='ovr', penalty='l2', random_state=None, tol=0.0001,\n",
      "     verbose=0), 'clf__estimator__C': 10, 'clf__estimator__penalty': 'l2'}\n",
      "Best estimator:  Pipeline(memory=None,\n",
      "     steps=[('clf', ClassifierPipeline(estimator=LinearSVC(C=10, class_weight=None, dual=True, fit_intercept=True,\n",
      "     intercept_scaling=1, loss='squared_hinge', max_iter=1000,\n",
      "     multi_class='ovr', penalty='l2', random_state=None, tol=0.0001,\n",
      "     verbose=0)))])\n",
      "Test Score (Accuracy):  0.7980891028192971\n",
      "Accuracy:  0.7980891028192971\n",
      "Classification Report:\n",
      "              precision    recall  f1-score   support\n",
      "\n",
      "        Show       0.80      1.00      0.89     22052\n",
      "     No-show       0.00      0.00      0.00      5579\n",
      "\n",
      "   micro avg       0.80      0.80      0.80     27631\n",
      "   macro avg       0.40      0.50      0.44     27631\n",
      "weighted avg       0.64      0.80      0.71     27631\n",
      "\n",
      "[[22052     0]\n",
      " [ 5579     0]]\n"
     ]
    },
    {
     "data": {
      "image/png": "[encoded data removed]",
      "text/plain": [
       "<Figure size 432x288 with 2 Axes>"
      ]
     },
     "metadata": {
      "needs_background": "light"
     },
     "output_type": "display_data"
    }
   ],
   "source": [
    "\n",
    "searchSVC.fit(X_train_trans, y_train)\n",
    "print('LINEAR SVC')\n",
    "print(\"Best parameter (CV score=%0.3f):\" % searchSVC.best_score_)\n",
    "print(searchSVC.best_params_)\n",
    "print('Best estimator: ', searchSVC.best_estimator_)\n",
    "\n",
    "y_predSVC = searchSVC.predict(X_test_trans)\n",
    "test_score = searchSVC.score(X_test_trans, y_test)\n",
    "print('Test Score (Accuracy): ', test_score)\n",
    "print('Accuracy: ', accuracy_score(y_test, y_predSVC))\n",
    "print('Classification Report:')\n",
    "print(classification_report(y_test, y_predSVC, target_names=target_names))\n",
    "plot_confusion_matrix(y_test, y_predSVC, classes=target_names,\n",
    "                      title='Confusion matrix')\n",
    "plt.show()"
   ]
  },
  {
   "cell_type": "code",
   "execution_count": 54,
   "metadata": {},
   "outputs": [
    {
     "name": "stdout",
     "output_type": "stream",
     "text": [
      "Fitting 5 folds for each of 60 candidates, totalling 300 fits\n"
     ]
    },
    {
     "name": "stderr",
     "output_type": "stream",
     "text": [
      "[Parallel(n_jobs=-1)]: Using backend LokyBackend with 4 concurrent workers.\n",
      "[Parallel(n_jobs=-1)]: Done  24 tasks      | elapsed:  1.7min\n",
      "[Parallel(n_jobs=-1)]: Done 120 tasks      | elapsed: 11.3min\n",
      "[Parallel(n_jobs=-1)]: Done 280 tasks      | elapsed: 28.8min\n",
      "[Parallel(n_jobs=-1)]: Done 300 out of 300 | elapsed: 31.5min finished\n",
      "/Users/Seema/Virtualenvs/nlp/lib/python3.6/site-packages/ipykernel_launcher.py:16: DataConversionWarning: A column-vector y was passed when a 1d array was expected. Please change the shape of y to (n_samples,), for example using ravel().\n",
      "  app.launch_new_instance()\n"
     ]
    },
    {
     "name": "stdout",
     "output_type": "stream",
     "text": [
      "RANDOM FOREST\n",
      "Best parameter (CV score=0.723):\n",
      "{'clf__estimator': RandomForestClassifier(bootstrap=True, class_weight=None, criterion='entropy',\n",
      "            max_depth=8, max_features='auto', max_leaf_nodes=None,\n",
      "            min_impurity_decrease=0.0, min_impurity_split=None,\n",
      "            min_samples_leaf=1, min_samples_split=2,\n",
      "            min_weight_fraction_leaf=0.0, n_estimators=500, n_jobs=None,\n",
      "            oob_score=False, random_state=None, verbose=0,\n",
      "            warm_start=False), 'clf__estimator__criterion': 'entropy', 'clf__estimator__max_depth': 8, 'clf__estimator__max_features': 'auto', 'clf__estimator__n_estimators': 500}\n",
      "Best estimator:  Pipeline(memory=None,\n",
      "     steps=[('clf', ClassifierPipeline(estimator=RandomForestClassifier(bootstrap=True, class_weight=None, criterion='entropy',\n",
      "            max_depth=8, max_features='auto', max_leaf_nodes=None,\n",
      "            min_impurity_decrease=0.0, min_impurity_split=None,\n",
      "            min_samples_leaf=1, min_samples_split=2,\n",
      "            min_weight_fraction_leaf=0.0, n_estimators=500, n_jobs=None,\n",
      "            oob_score=False, random_state=None, verbose=0,\n",
      "            warm_start=False)))])\n",
      "Test Score (AUC):  0.7227026607610677\n",
      "Accuracy:  0.7980891028192971\n",
      "Classification Report:\n",
      "              precision    recall  f1-score   support\n",
      "\n",
      "        Show       0.80      1.00      0.89     22052\n",
      "     No-show       0.00      0.00      0.00      5579\n",
      "\n",
      "   micro avg       0.80      0.80      0.80     27631\n",
      "   macro avg       0.40      0.50      0.44     27631\n",
      "weighted avg       0.64      0.80      0.71     27631\n",
      "\n",
      "[[22052     0]\n",
      " [ 5579     0]]\n"
     ]
    },
    {
     "name": "stderr",
     "output_type": "stream",
     "text": [
      "/Users/Seema/Virtualenvs/nlp/lib/python3.6/site-packages/sklearn/metrics/classification.py:1143: UndefinedMetricWarning: Precision and F-score are ill-defined and being set to 0.0 in labels with no predicted samples.\n",
      "  'precision', 'predicted', average, warn_for)\n"
     ]
    },
    {
     "data": {
      "image/png": "[encoded data removed]",
      "text/plain": [
       "<Figure size 432x288 with 2 Axes>"
      ]
     },
     "metadata": {
      "needs_background": "light"
     },
     "output_type": "display_data"
    }
   ],
   "source": [
    "searchRF.fit(X_train_trans, y_train)\n",
    "print('RANDOM FOREST')\n",
    "print(\"Best parameter (CV score=%0.3f):\" % searchRF.best_score_)\n",
    "print(searchRF.best_params_)\n",
    "print('Best estimator: ', searchRF.best_estimator_)\n",
    "\n",
    "y_predRF = searchRF.predict(X_test_trans)\n",
    "test_score = searchRF.score(X_test_trans, y_test)\n",
    "print('Test Score (AUC): ', test_score)\n",
    "print('Accuracy: ', accuracy_score(y_test, y_predRF))\n",
    "print('Classification Report:')\n",
    "print(classification_report(y_test, y_predRF, target_names=target_names))\n",
    "plot_confusion_matrix(y_test, y_predRF, classes=target_names,\n",
    "                      title='Confusion matrix')\n",
    "plt.show()"
   ]
  },
  {
   "cell_type": "code",
   "execution_count": 56,
   "metadata": {},
   "outputs": [
    {
     "name": "stderr",
     "output_type": "stream",
     "text": [
      "/Users/Seema/Virtualenvs/nlp/lib/python3.6/site-packages/ipykernel_launcher.py:8: DataConversionWarning: A column-vector y was passed when a 1d array was expected. Please change the shape of y to (n_samples,), for example using ravel().\n",
      "  \n"
     ]
    },
    {
     "name": "stdout",
     "output_type": "stream",
     "text": [
      "Accuracy:  0.7980891028192971\n",
      "Classification Report:\n",
      "              precision    recall  f1-score   support\n",
      "\n",
      "        Show       0.80      1.00      0.89     22052\n",
      "     No-show       0.00      0.00      0.00      5579\n",
      "\n",
      "   micro avg       0.80      0.80      0.80     27631\n",
      "   macro avg       0.40      0.50      0.44     27631\n",
      "weighted avg       0.64      0.80      0.71     27631\n",
      "\n",
      "[[22052     0]\n",
      " [ 5579     0]]\n"
     ]
    },
    {
     "name": "stderr",
     "output_type": "stream",
     "text": [
      "/Users/Seema/Virtualenvs/nlp/lib/python3.6/site-packages/sklearn/metrics/classification.py:1143: UndefinedMetricWarning: Precision and F-score are ill-defined and being set to 0.0 in labels with no predicted samples.\n",
      "  'precision', 'predicted', average, warn_for)\n"
     ]
    },
    {
     "data": {
      "image/png": "[encoded data removed]",
      "text/plain": [
       "<Figure size 432x288 with 2 Axes>"
      ]
     },
     "metadata": {
      "needs_background": "light"
     },
     "output_type": "display_data"
    },
    {
     "name": "stdout",
     "output_type": "stream",
     "text": [
      "Feature importance:\n",
      "[8.91e-03 2.45e-02 8.08e-03 7.43e-03 2.40e-02 8.92e-03 1.19e-03 3.07e-04\n",
      " 0.00e+00 0.00e+00 5.90e-01 3.67e-02 2.17e-02 4.88e-02 6.66e-02 6.13e-02\n",
      " 4.25e-02 4.87e-02]\n"
     ]
    }
   ],
   "source": [
    "clf = RandomForestClassifier(bootstrap=True, class_weight=None, criterion='entropy',\n",
    "            max_depth=8, max_features='auto', max_leaf_nodes=None,\n",
    "            min_impurity_decrease=0.0, min_impurity_split=None,\n",
    "            min_samples_leaf=1, min_samples_split=2,\n",
    "            min_weight_fraction_leaf=0.0, n_estimators=500, n_jobs=None,\n",
    "            oob_score=False, random_state=None, verbose=0,\n",
    "            warm_start=False)\n",
    "clf.fit(X_train_trans, y_train)\n",
    "y_pred = clf.predict(X_test_trans)\n",
    "print('Accuracy: ', accuracy_score(y_test, y_pred))\n",
    "print('Classification Report:')\n",
    "print(classification_report(y_test, y_pred, target_names=target_names))\n",
    "plot_confusion_matrix(y_test, y_pred, classes=target_names,\n",
    "                      title='Confusion matrix')\n",
    "plt.show()\n",
    "\n",
    "print('Feature importance:')\n",
    "print(clf.feature_importances_)"
   ]
  },
  {
   "cell_type": "code",
   "execution_count": 58,
   "metadata": {
    "scrolled": true
   },
   "outputs": [
    {
     "data": {
      "image/png": "[encoded data removed]",
      "text/plain": [
       "<Figure size 432x432 with 1 Axes>"
      ]
     },
     "metadata": {
      "needs_background": "light"
     },
     "output_type": "display_data"
    }
   ],
   "source": [
    "#Make ROC curve\n",
    "from sklearn.metrics import roc_curve\n",
    "from sklearn.metrics import auc\n",
    "import matplotlib.pyplot as plt\n",
    "plt.figure(figsize=(6,6))\n",
    "fpr, tpr, thresh = roc_curve(y_test, clf.predict_proba(X_test_trans)[:,1])\n",
    "roc_auc = auc(fpr, tpr)\n",
    "\n",
    "plt.title('ROC Curve')\n",
    "plt.plot(fpr, tpr, 'b', label=\"AUC: {:.3f}\".format(roc_auc))\n",
    "plt.legend(loc='lower right')\n",
    "plt.plot([0,1],[0,1],'r--')\n",
    "plt.xlim([0,1])\n",
    "plt.ylim([0,1])\n",
    "plt.ylabel('True Positive Rate')\n",
    "plt.xlabel('False Positive Rate')\n",
    "plt.tight_layout()\n",
    "plt.show()"
   ]
  },
  {
   "cell_type": "code",
   "execution_count": 77,
   "metadata": {},
   "outputs": [
    {
     "data": {
      "text/plain": [
       "0.2012695964451002"
      ]
     },
     "execution_count": 77,
     "metadata": {},
     "output_type": "execute_result"
    }
   ],
   "source": [
    "optimal_idx = np.argmax(tpr - fpr)\n",
    "optimal_threshold = thresh[optimal_idx]\n",
    "optimal_threshold"
   ]
  },
  {
   "cell_type": "code",
   "execution_count": 78,
   "metadata": {},
   "outputs": [
    {
     "data": {
      "text/plain": [
       "0.2012695964451002"
      ]
     },
     "execution_count": 78,
     "metadata": {},
     "output_type": "execute_result"
    }
   ],
   "source": [
    "optimal_idx2 = np.argmax(tpr + fpr - 1)\n",
    "optimal_threshold2 = thresh[optimal_idx]\n",
    "optimal_threshold2"
   ]
  },
  {
   "cell_type": "code",
   "execution_count": 82,
   "metadata": {},
   "outputs": [
    {
     "name": "stderr",
     "output_type": "stream",
     "text": [
      "/Users/Seema/Virtualenvs/nlp/lib/python3.6/site-packages/ipykernel_launcher.py:8: DataConversionWarning: A column-vector y was passed when a 1d array was expected. Please change the shape of y to (n_samples,), for example using ravel().\n",
      "  \n"
     ]
    },
    {
     "name": "stdout",
     "output_type": "stream",
     "text": [
      "Accuracy:  0.5536173138865766\n",
      "Classification Report:\n",
      "              precision    recall  f1-score   support\n",
      "\n",
      "        Show       0.93      0.47      0.63     22052\n",
      "     No-show       0.29      0.87      0.44      5579\n",
      "\n",
      "   micro avg       0.55      0.55      0.55     27631\n",
      "   macro avg       0.61      0.67      0.53     27631\n",
      "weighted avg       0.80      0.55      0.59     27631\n",
      "\n",
      "[[10461 11591]\n",
      " [  743  4836]]\n"
     ]
    },
    {
     "data": {
      "image/png": "[encoded data removed]",
      "text/plain": [
       "<Figure size 432x288 with 2 Axes>"
      ]
     },
     "metadata": {
      "needs_background": "light"
     },
     "output_type": "display_data"
    },
    {
     "name": "stdout",
     "output_type": "stream",
     "text": [
      "Feature importance:\n",
      "[9.38e-03 2.36e-02 8.42e-03 7.78e-03 2.39e-02 8.71e-03 1.19e-03 3.06e-04\n",
      " 0.00e+00 0.00e+00 5.83e-01 3.73e-02 2.05e-02 4.76e-02 6.98e-02 6.28e-02\n",
      " 4.48e-02 5.08e-02]\n"
     ]
    }
   ],
   "source": [
    "clf = RandomForestClassifier(bootstrap=True, class_weight=None, criterion='entropy',\n",
    "            max_depth=8, max_features='auto', max_leaf_nodes=None,\n",
    "            min_impurity_decrease=0.0, min_impurity_split=None,\n",
    "            min_samples_leaf=1, min_samples_split=2,\n",
    "            min_weight_fraction_leaf=0.0, n_estimators=500, n_jobs=None,\n",
    "            oob_score=False, random_state=None, verbose=0,\n",
    "            warm_start=False)\n",
    "clf.fit(X_train_trans, y_train)\n",
    "y_pred = (clf.predict_proba(X_test_trans)[:,1] >= 0.2012695964451002).astype(bool)\n",
    "print('Accuracy: ', accuracy_score(y_test, y_pred))\n",
    "print('Classification Report:')\n",
    "print(classification_report(y_test, y_pred, target_names=target_names))\n",
    "plot_confusion_matrix(y_test, y_pred, classes=target_names,\n",
    "                      title='Confusion matrix')\n",
    "plt.show()\n",
    "\n",
    "print('Feature importance:')\n",
    "print(clf.feature_importances_)\n"
   ]
  },
  {
   "cell_type": "markdown",
   "metadata": {},
   "source": [
    "# Experiment 3: Boosting model - AdaBoost"
   ]
  },
  {
   "cell_type": "code",
   "execution_count": 14,
   "metadata": {},
   "outputs": [
    {
     "name": "stderr",
     "output_type": "stream",
     "text": [
      "/Users/Seema/Virtualenvs/nlp/lib/python3.6/site-packages/sklearn/preprocessing/_encoders.py:368: FutureWarning: The handling of integer data will change in version 0.22. Currently, the categories are determined based on the range [0, max(values)], while in the future they will be determined based on the unique values.\n",
      "If you want the future behaviour and silence this warning, you can specify \"categories='auto'\".\n",
      "In case you used a LabelEncoder before this OneHotEncoder to convert the categories to integers, then you can now use the OneHotEncoder directly.\n",
      "  warnings.warn(msg, FutureWarning)\n"
     ]
    }
   ],
   "source": [
    "ct.fit(X_train)\n",
    "X_train_trans = ct.transform(X_train)\n",
    "X_test_trans = ct.transform(X_test)"
   ]
  },
  {
   "cell_type": "code",
   "execution_count": 15,
   "metadata": {},
   "outputs": [
    {
     "name": "stderr",
     "output_type": "stream",
     "text": [
      "/Users/Seema/Virtualenvs/nlp/lib/python3.6/site-packages/sklearn/utils/validation.py:761: DataConversionWarning: A column-vector y was passed when a 1d array was expected. Please change the shape of y to (n_samples, ), for example using ravel().\n",
      "  y = column_or_1d(y, warn=True)\n"
     ]
    },
    {
     "data": {
      "text/plain": [
       "AdaBoostClassifier(algorithm='SAMME.R', base_estimator=None,\n",
       "          learning_rate=1.0, n_estimators=50, random_state=None)"
      ]
     },
     "execution_count": 15,
     "metadata": {},
     "output_type": "execute_result"
    }
   ],
   "source": [
    "from sklearn.ensemble import AdaBoostClassifier\n",
    "clf = AdaBoostClassifier()\n",
    "clf.fit(X_train_trans, y_train)\n"
   ]
  },
  {
   "cell_type": "code",
   "execution_count": 18,
   "metadata": {},
   "outputs": [
    {
     "name": "stdout",
     "output_type": "stream",
     "text": [
      "Accuracy:  0.7980891028192971\n",
      "Classification Report:\n",
      "              precision    recall  f1-score   support\n",
      "\n",
      "        Show       0.80      1.00      0.89     22052\n",
      "     No-show       0.00      0.00      0.00      5579\n",
      "\n",
      "   micro avg       0.80      0.80      0.80     27631\n",
      "   macro avg       0.40      0.50      0.44     27631\n",
      "weighted avg       0.64      0.80      0.71     27631\n",
      "\n",
      "[[22052     0]\n",
      " [ 5579     0]]\n"
     ]
    },
    {
     "name": "stderr",
     "output_type": "stream",
     "text": [
      "/Users/Seema/Virtualenvs/nlp/lib/python3.6/site-packages/sklearn/metrics/classification.py:1143: UndefinedMetricWarning: Precision and F-score are ill-defined and being set to 0.0 in labels with no predicted samples.\n",
      "  'precision', 'predicted', average, warn_for)\n"
     ]
    },
    {
     "data": {
      "image/png": "[encoded data removed]",
      "text/plain": [
       "<Figure size 432x288 with 2 Axes>"
      ]
     },
     "metadata": {
      "needs_background": "light"
     },
     "output_type": "display_data"
    },
    {
     "name": "stdout",
     "output_type": "stream",
     "text": [
      "Feature importance:\n",
      "[0.1  0.06 0.04 0.06 0.06 0.04 0.04 0.02 0.   0.   0.1  0.1  0.06 0.04\n",
      " 0.06 0.06 0.06 0.1 ]\n"
     ]
    }
   ],
   "source": [
    "y_pred = clf.predict(X_test_trans)\n",
    "print('Accuracy: ', accuracy_score(y_test, y_pred))\n",
    "print('Classification Report:')\n",
    "print(classification_report(y_test, y_pred, target_names=target_names))\n",
    "plot_confusion_matrix(y_test, y_pred, classes=target_names,\n",
    "                      title='Confusion matrix')\n",
    "plt.show()\n",
    "\n",
    "print('Feature importance:')\n",
    "print(clf.feature_importances_)"
   ]
  },
  {
   "cell_type": "code",
   "execution_count": 19,
   "metadata": {
    "scrolled": true
   },
   "outputs": [
    {
     "data": {
      "image/png": "[encoded data removed]",
      "text/plain": [
       "<Figure size 432x432 with 1 Axes>"
      ]
     },
     "metadata": {
      "needs_background": "light"
     },
     "output_type": "display_data"
    }
   ],
   "source": [
    "#Make ROC curve\n",
    "from sklearn.metrics import roc_curve\n",
    "from sklearn.metrics import auc\n",
    "import matplotlib.pyplot as plt\n",
    "plt.figure(figsize=(6,6))\n",
    "fpr, tpr, thresh = roc_curve(y_test, clf.predict_proba(X_test_trans)[:,1])\n",
    "roc_auc = auc(fpr, tpr)\n",
    "\n",
    "plt.title('ROC Curve')\n",
    "plt.plot(fpr, tpr, 'b', label=\"AUC: {:.3f}\".format(roc_auc))\n",
    "plt.legend(loc='lower right')\n",
    "plt.plot([0,1],[0,1],'r--')\n",
    "plt.xlim([0,1])\n",
    "plt.ylim([0,1])\n",
    "plt.ylabel('True Positive Rate')\n",
    "plt.xlabel('False Positive Rate')\n",
    "plt.tight_layout()\n",
    "plt.show()"
   ]
  },
  {
   "cell_type": "code",
   "execution_count": 20,
   "metadata": {},
   "outputs": [
    {
     "data": {
      "text/plain": [
       "0.4933283505999414"
      ]
     },
     "execution_count": 20,
     "metadata": {},
     "output_type": "execute_result"
    }
   ],
   "source": [
    "optimal_idx = np.argmax(tpr - fpr)\n",
    "optimal_threshold = thresh[optimal_idx]\n",
    "optimal_threshold"
   ]
  },
  {
   "cell_type": "code",
   "execution_count": 21,
   "metadata": {},
   "outputs": [
    {
     "name": "stdout",
     "output_type": "stream",
     "text": [
      "Accuracy:  0.5664290108935616\n",
      "Classification Report:\n",
      "              precision    recall  f1-score   support\n",
      "\n",
      "        Show       0.93      0.49      0.64     22052\n",
      "     No-show       0.30      0.86      0.44      5579\n",
      "\n",
      "   micro avg       0.57      0.57      0.57     27631\n",
      "   macro avg       0.62      0.67      0.54     27631\n",
      "weighted avg       0.80      0.57      0.60     27631\n",
      "\n",
      "[[10873 11179]\n",
      " [  801  4778]]\n"
     ]
    },
    {
     "data": {
      "image/png": "[encoded data removed]",
      "text/plain": [
       "<Figure size 432x288 with 2 Axes>"
      ]
     },
     "metadata": {
      "needs_background": "light"
     },
     "output_type": "display_data"
    },
    {
     "name": "stdout",
     "output_type": "stream",
     "text": [
      "Feature importance:\n",
      "[0.1  0.06 0.04 0.06 0.06 0.04 0.04 0.02 0.   0.   0.1  0.1  0.06 0.04\n",
      " 0.06 0.06 0.06 0.1 ]\n"
     ]
    }
   ],
   "source": [
    "y_pred = (clf.predict_proba(X_test_trans)[:,1] >= 0.4933283505999414).astype(bool)\n",
    "print('Accuracy: ', accuracy_score(y_test, y_pred))\n",
    "print('Classification Report:')\n",
    "print(classification_report(y_test, y_pred, target_names=target_names))\n",
    "plot_confusion_matrix(y_test, y_pred, classes=target_names,\n",
    "                      title='Confusion matrix')\n",
    "plt.show()\n",
    "\n",
    "print('Feature importance:')\n",
    "print(clf.feature_importances_)\n"
   ]
  },
  {
   "cell_type": "code",
   "execution_count": null,
   "metadata": {},
   "outputs": [],
   "source": []
  }
 ],
 "metadata": {
  "kernelspec": {
   "display_name": "Python 3",
   "language": "python",
   "name": "python3"
  },
  "language_info": {
   "codemirror_mode": {
    "name": "ipython",
    "version": 3
   },
   "file_extension": ".py",
   "mimetype": "text/x-python",
   "name": "python",
   "nbconvert_exporter": "python",
   "pygments_lexer": "ipython3",
   "version": "3.6.1"
  }
 },
 "nbformat": 4,
 "nbformat_minor": 2
}
